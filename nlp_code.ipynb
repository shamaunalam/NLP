{
 "cells": [
  {
   "cell_type": "code",
   "execution_count": 1,
   "metadata": {},
   "outputs": [],
   "source": [
    "import nltk"
   ]
  },
  {
   "cell_type": "code",
   "execution_count": 2,
   "metadata": {},
   "outputs": [],
   "source": [
    "data=\"Bhubaneswar is an ancient city in India’s eastern state of Odisha, formerly Orissa. Mr. Anshu is now trying to visit some places but he is unable to do so. please drop me email my ticket at anshu@anshu.com. Many temples built from sandstone are dotted around Bindu Sagar Lake in the old city, including the 11th-century Hindu Lingaraja Temple. Outside Rajarani Temple are sculpted figures of the guardians of the 8 cardinal and ordinal directions. Jain antiques, weaponry and indigenous pattachitra paintings fill the Odisha State Museum.\""
   ]
  },
  {
   "cell_type": "code",
   "execution_count": 3,
   "metadata": {},
   "outputs": [
    {
     "name": "stdout",
     "output_type": "stream",
     "text": [
      "Bhubaneswar is an ancient city in India’s eastern state of Odisha, formerly Orissa. Mr. Anshu is now trying to visit some places but he is unable to do so. please drop me email my ticket at anshu@anshu.com. Many temples built from sandstone are dotted around Bindu Sagar Lake in the old city, including the 11th-century Hindu Lingaraja Temple. Outside Rajarani Temple are sculpted figures of the guardians of the 8 cardinal and ordinal directions. Jain antiques, weaponry and indigenous pattachitra paintings fill the Odisha State Museum.\n"
     ]
    }
   ],
   "source": [
    "print(data)"
   ]
  },
  {
   "cell_type": "code",
   "execution_count": 4,
   "metadata": {},
   "outputs": [],
   "source": [
    "from nltk import sent_tokenize"
   ]
  },
  {
   "cell_type": "code",
   "execution_count": 5,
   "metadata": {},
   "outputs": [
    {
     "data": {
      "text/plain": [
       "['Bhubaneswar is an ancient city in India’s eastern state of Odisha, formerly Orissa.',\n",
       " 'Mr. Anshu is now trying to visit some places but he is unable to do so.',\n",
       " 'please drop me email my ticket at anshu@anshu.com.',\n",
       " 'Many temples built from sandstone are dotted around Bindu Sagar Lake in the old city, including the 11th-century Hindu Lingaraja Temple.',\n",
       " 'Outside Rajarani Temple are sculpted figures of the guardians of the 8 cardinal and ordinal directions.',\n",
       " 'Jain antiques, weaponry and indigenous pattachitra paintings fill the Odisha State Museum.']"
      ]
     },
     "execution_count": 5,
     "metadata": {},
     "output_type": "execute_result"
    }
   ],
   "source": [
    "sent_tokenize(data)"
   ]
  },
  {
   "cell_type": "code",
   "execution_count": 10,
   "metadata": {},
   "outputs": [
    {
     "data": {
      "text/plain": [
       "['Bhubaneswar',\n",
       " 'is',\n",
       " 'an',\n",
       " 'ancient',\n",
       " 'city',\n",
       " 'in',\n",
       " 'India',\n",
       " '’',\n",
       " 's',\n",
       " 'eastern',\n",
       " 'state',\n",
       " 'of',\n",
       " 'Odisha',\n",
       " ',',\n",
       " 'formerly',\n",
       " 'Orissa',\n",
       " '.',\n",
       " 'Mr.',\n",
       " 'Anshu',\n",
       " 'is',\n",
       " 'now',\n",
       " 'trying',\n",
       " 'to',\n",
       " 'visit',\n",
       " 'some',\n",
       " 'places',\n",
       " 'but',\n",
       " 'he',\n",
       " 'is',\n",
       " 'unable',\n",
       " 'to',\n",
       " 'do',\n",
       " 'so',\n",
       " '.',\n",
       " 'please',\n",
       " 'drop',\n",
       " 'me',\n",
       " 'email',\n",
       " 'my',\n",
       " 'ticket',\n",
       " 'at',\n",
       " 'anshu',\n",
       " '@',\n",
       " 'anshu.com',\n",
       " '.',\n",
       " 'Many',\n",
       " 'temples',\n",
       " 'built',\n",
       " 'from',\n",
       " 'sandstone',\n",
       " 'are',\n",
       " 'dotted',\n",
       " 'around',\n",
       " 'Bindu',\n",
       " 'Sagar',\n",
       " 'Lake',\n",
       " 'in',\n",
       " 'the',\n",
       " 'old',\n",
       " 'city',\n",
       " ',',\n",
       " 'including',\n",
       " 'the',\n",
       " '11th-century',\n",
       " 'Hindu',\n",
       " 'Lingaraja',\n",
       " 'Temple',\n",
       " '.',\n",
       " 'Outside',\n",
       " 'Rajarani',\n",
       " 'Temple',\n",
       " 'are',\n",
       " 'sculpted',\n",
       " 'figures',\n",
       " 'of',\n",
       " 'the',\n",
       " 'guardians',\n",
       " 'of',\n",
       " 'the',\n",
       " '8',\n",
       " 'cardinal',\n",
       " 'and',\n",
       " 'ordinal',\n",
       " 'directions',\n",
       " '.',\n",
       " 'Jain',\n",
       " 'antiques',\n",
       " ',',\n",
       " 'weaponry',\n",
       " 'and',\n",
       " 'indigenous',\n",
       " 'pattachitra',\n",
       " 'paintings',\n",
       " 'fill',\n",
       " 'the',\n",
       " 'Odisha',\n",
       " 'State',\n",
       " 'Museum',\n",
       " '.']"
      ]
     },
     "execution_count": 10,
     "metadata": {},
     "output_type": "execute_result"
    }
   ],
   "source": [
    "from nltk import word_tokenize\n",
    "word_tokenize(data)"
   ]
  },
  {
   "cell_type": "markdown",
   "metadata": {},
   "source": [
    "Stemming = finding nearest word by spelling\n",
    "\n",
    "lemmatization - finding the nearest word by meaning"
   ]
  },
  {
   "cell_type": "code",
   "execution_count": 12,
   "metadata": {},
   "outputs": [
    {
     "data": {
      "text/plain": [
       "'car'"
      ]
     },
     "execution_count": 12,
     "metadata": {},
     "output_type": "execute_result"
    }
   ],
   "source": [
    "from nltk.stem import PorterStemmer\n",
    "ps=PorterStemmer()\n",
    "ps.stem('Cars')"
   ]
  },
  {
   "cell_type": "code",
   "execution_count": 12,
   "metadata": {},
   "outputs": [
    {
     "data": {
      "text/plain": [
       "'boy'"
      ]
     },
     "execution_count": 12,
     "metadata": {},
     "output_type": "execute_result"
    }
   ],
   "source": [
    "ps.stem('boys')"
   ]
  },
  {
   "cell_type": "code",
   "execution_count": 14,
   "metadata": {},
   "outputs": [
    {
     "data": {
      "text/plain": [
       "'goe'"
      ]
     },
     "execution_count": 14,
     "metadata": {},
     "output_type": "execute_result"
    }
   ],
   "source": [
    "ps.stem('goes')"
   ]
  },
  {
   "cell_type": "code",
   "execution_count": 2,
   "metadata": {},
   "outputs": [],
   "source": [
    "from nltk import stem"
   ]
  },
  {
   "cell_type": "code",
   "execution_count": 16,
   "metadata": {},
   "outputs": [
    {
     "data": {
      "text/plain": [
       "'goe'"
      ]
     },
     "execution_count": 16,
     "metadata": {},
     "output_type": "execute_result"
    }
   ],
   "source": [
    "ls=stem.LancasterStemmer()\n",
    "ls.stem('goes')"
   ]
  },
  {
   "cell_type": "code",
   "execution_count": 17,
   "metadata": {},
   "outputs": [
    {
     "data": {
      "text/plain": [
       "'doe'"
      ]
     },
     "execution_count": 17,
     "metadata": {},
     "output_type": "execute_result"
    }
   ],
   "source": [
    "ls.stem('does')"
   ]
  },
  {
   "cell_type": "code",
   "execution_count": 3,
   "metadata": {},
   "outputs": [
    {
     "data": {
      "text/plain": [
       "'go'"
      ]
     },
     "execution_count": 3,
     "metadata": {},
     "output_type": "execute_result"
    }
   ],
   "source": [
    "#lemmatizers\n",
    "from nltk import stem\n",
    "wd=stem.WordNetLemmatizer()\n",
    "wd.lemmatize('goes')"
   ]
  },
  {
   "cell_type": "code",
   "execution_count": 16,
   "metadata": {},
   "outputs": [
    {
     "data": {
      "text/plain": [
       "'go'"
      ]
     },
     "execution_count": 16,
     "metadata": {},
     "output_type": "execute_result"
    }
   ],
   "source": [
    "wd.lemmatize('went','v')"
   ]
  },
  {
   "cell_type": "code",
   "execution_count": 22,
   "metadata": {},
   "outputs": [
    {
     "data": {
      "text/plain": [
       "'be'"
      ]
     },
     "execution_count": 22,
     "metadata": {},
     "output_type": "execute_result"
    }
   ],
   "source": [
    "wd.lemmatize('is','v')"
   ]
  },
  {
   "cell_type": "code",
   "execution_count": 11,
   "metadata": {},
   "outputs": [],
   "source": [
    "import textblob"
   ]
  },
  {
   "cell_type": "code",
   "execution_count": 12,
   "metadata": {},
   "outputs": [],
   "source": [
    "from textblob import TextBlob\n",
    "data=TextBlob('Hello Everyone! Hope you are enjoying machine learning.')"
   ]
  },
  {
   "cell_type": "code",
   "execution_count": 13,
   "metadata": {},
   "outputs": [
    {
     "data": {
      "text/plain": [
       "TextBlob(\"سب کو سلام! امید ہے کہ آپ مشین سیکھنے سے لطف اندوز ہو رہے ہیں.\")"
      ]
     },
     "execution_count": 13,
     "metadata": {},
     "output_type": "execute_result"
    }
   ],
   "source": [
    "data.translate(to='ur')"
   ]
  },
  {
   "cell_type": "code",
   "execution_count": 14,
   "metadata": {},
   "outputs": [
    {
     "data": {
      "text/plain": [
       "TextBlob(\"সবাইকে অভিবাদন! আপনি মেশিন শেখার উপভোগ করছেন আশা করি।\")"
      ]
     },
     "execution_count": 14,
     "metadata": {},
     "output_type": "execute_result"
    }
   ],
   "source": [
    "data.translate(to='bn')"
   ]
  },
  {
   "cell_type": "code",
   "execution_count": 15,
   "metadata": {},
   "outputs": [
    {
     "data": {
      "text/plain": [
       "TextBlob(\"تحية للجميع! آمل أن تستمتع التعلم الآلي.\")"
      ]
     },
     "execution_count": 15,
     "metadata": {},
     "output_type": "execute_result"
    }
   ],
   "source": [
    "data.translate(to='ar')"
   ]
  },
  {
   "cell_type": "code",
   "execution_count": 16,
   "metadata": {},
   "outputs": [
    {
     "data": {
      "text/plain": [
       "TextBlob(\"Bonjour à tous! J'espère que vous appréciez l'apprentissage machine.\")"
      ]
     },
     "execution_count": 16,
     "metadata": {},
     "output_type": "execute_result"
    }
   ],
   "source": [
    "data.translate(to='fr')"
   ]
  },
  {
   "cell_type": "code",
   "execution_count": 17,
   "metadata": {},
   "outputs": [
    {
     "data": {
      "text/plain": [
       "TextBlob(\"દરેકને હેલો! આશા છે કે તમે મશીન લર્નિંગનો આનંદ માણી રહ્યા છો.\")"
      ]
     },
     "execution_count": 17,
     "metadata": {},
     "output_type": "execute_result"
    }
   ],
   "source": [
    "data.translate(to='gu')"
   ]
  },
  {
   "cell_type": "code",
   "execution_count": 21,
   "metadata": {},
   "outputs": [
    {
     "data": {
      "text/plain": [
       "TextBlob(\"Save munhu wose! Tariro iwe uri kunakidzwa nekudzidza kwemichina.\")"
      ]
     },
     "execution_count": 21,
     "metadata": {},
     "output_type": "execute_result"
    }
   ],
   "source": [
    "data.translate(to='sn')"
   ]
  },
  {
   "cell_type": "code",
   "execution_count": 22,
   "metadata": {},
   "outputs": [
    {
     "data": {
      "text/plain": [
       "Sentiment(polarity=0.9099999999999999, subjectivity=0.7800000000000001)"
      ]
     },
     "execution_count": 22,
     "metadata": {},
     "output_type": "execute_result"
    }
   ],
   "source": [
    "data=TextBlob(\"The movie was  good.The cinematography was very good\")\n",
    "data.sentiment"
   ]
  },
  {
   "cell_type": "code",
   "execution_count": 9,
   "metadata": {},
   "outputs": [],
   "source": [
    "from textblob import TextBlob"
   ]
  },
  {
   "cell_type": "code",
   "execution_count": 10,
   "metadata": {},
   "outputs": [],
   "source": [
    "data=TextBlob('I havv two cars.')\n"
   ]
  },
  {
   "cell_type": "code",
   "execution_count": 11,
   "metadata": {},
   "outputs": [
    {
     "name": "stdout",
     "output_type": "stream",
     "text": [
      "I have two cars.\n"
     ]
    }
   ],
   "source": [
    "print(data.correct())"
   ]
  },
  {
   "cell_type": "code",
   "execution_count": null,
   "metadata": {
    "collapsed": true
   },
   "outputs": [],
   "source": []
  }
 ],
 "metadata": {
  "kernelspec": {
   "display_name": "Python 3",
   "language": "python",
   "name": "python3"
  },
  "language_info": {
   "codemirror_mode": {
    "name": "ipython",
    "version": 3
   },
   "file_extension": ".py",
   "mimetype": "text/x-python",
   "name": "python",
   "nbconvert_exporter": "python",
   "pygments_lexer": "ipython3",
   "version": "3.6.4"
  }
 },
 "nbformat": 4,
 "nbformat_minor": 2
}
